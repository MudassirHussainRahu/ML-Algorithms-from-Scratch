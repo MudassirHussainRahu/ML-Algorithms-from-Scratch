{
 "cells": [
  {
   "cell_type": "code",
   "execution_count": 14,
   "id": "817fe1de-d5e9-4712-bf8d-8c5ffd6ace2a",
   "metadata": {},
   "outputs": [],
   "source": [
    "from random import seed, randrange\n",
    "\n",
    "def train_test_split(dataset, split=0.60):\n",
    "    train = list()\n",
    "    train_size = split * len(dataset)\n",
    "    # print(len(dataset))\n",
    "    dataset_copy = list(dataset)\n",
    "    print(len(dataset_copy))\n",
    "    while len(train)< train_size:\n",
    "        index = randrange(len(dataset_copy))\n",
    "        train.append(dataset_copy.pop(index))\n",
    "\n",
    "    return train, dataset_copy"
   ]
  },
  {
   "cell_type": "code",
   "execution_count": 2,
   "id": "5eee9220-ece1-48f8-947d-1dadc1b643b8",
   "metadata": {},
   "outputs": [],
   "source": [
    "from all_functions import load_csv, str_col_to_float\n",
    "from all_functions import str_col_to_int"
   ]
  },
  {
   "cell_type": "code",
   "execution_count": 3,
   "id": "c5c28f28-eda4-43c3-938b-96349d8b4977",
   "metadata": {},
   "outputs": [
    {
     "name": "stdout",
     "output_type": "stream",
     "text": [
      "['iris.data.csv', 'pima-indians-diabetes.data.csv']\n"
     ]
    }
   ],
   "source": [
    "import os \n",
    "print(os.listdir(\"datasets\"))"
   ]
  },
  {
   "cell_type": "code",
   "execution_count": 4,
   "id": "8b4f593d-e555-4013-991f-2c0af6b87c0f",
   "metadata": {
    "scrolled": true
   },
   "outputs": [],
   "source": [
    "data = load_csv(\"datasets/iris.data.csv\")\n",
    "# data"
   ]
  },
  {
   "cell_type": "code",
   "execution_count": 5,
   "id": "c1ca7b4a-fa1f-4f79-9fdd-e7af753ff9b0",
   "metadata": {},
   "outputs": [],
   "source": [
    "for i in range(4):\n",
    "   data = str_col_to_float(data,i)\n",
    "\n",
    "# data"
   ]
  },
  {
   "cell_type": "code",
   "execution_count": 7,
   "id": "bfb53f3b-bd85-4550-b601-7f49bf966e47",
   "metadata": {},
   "outputs": [],
   "source": [
    "dataset = str_col_to_int(data, 4)"
   ]
  },
  {
   "cell_type": "code",
   "execution_count": 8,
   "id": "93c012c1-86b5-467e-8fac-d1f979c8890c",
   "metadata": {},
   "outputs": [],
   "source": [
    "# dataset"
   ]
  },
  {
   "cell_type": "code",
   "execution_count": 9,
   "id": "accdd869-433e-406d-a3a6-177db6923f7f",
   "metadata": {
    "scrolled": true
   },
   "outputs": [],
   "source": [
    "# data"
   ]
  },
  {
   "cell_type": "code",
   "execution_count": 10,
   "id": "606fd187-4e3c-4d8b-b5db-730e7be411c2",
   "metadata": {},
   "outputs": [],
   "source": [
    "from all_functions import dataset_minmax\n",
    "minmax = dataset_minmax(data)"
   ]
  },
  {
   "cell_type": "code",
   "execution_count": 11,
   "id": "e2c0023d-22b7-4c79-be69-56874b528020",
   "metadata": {},
   "outputs": [
    {
     "data": {
      "text/plain": [
       "[[4.3, 7.9], [2.0, 4.4], [1.0, 6.9], [0.1, 2.5], [0, 2]]"
      ]
     },
     "execution_count": 11,
     "metadata": {},
     "output_type": "execute_result"
    }
   ],
   "source": [
    "minmax"
   ]
  },
  {
   "cell_type": "code",
   "execution_count": 15,
   "id": "1b0d35e6-9dc8-457b-b598-9a9f201d14ea",
   "metadata": {},
   "outputs": [
    {
     "name": "stdout",
     "output_type": "stream",
     "text": [
      "150\n"
     ]
    }
   ],
   "source": [
    "train, test = train_test_split(data, split=0.6)"
   ]
  },
  {
   "cell_type": "code",
   "execution_count": 17,
   "id": "4ccaa4ad-5c2f-4d4c-8e3a-5fac020b34d4",
   "metadata": {},
   "outputs": [
    {
     "data": {
      "text/plain": [
       "[[4.7, 3.2, 1.3, 0.2, 2],\n",
       " [4.6, 3.1, 1.5, 0.2, 2],\n",
       " [4.6, 3.4, 1.4, 0.3, 2],\n",
       " [5.0, 3.4, 1.5, 0.2, 2],\n",
       " [4.4, 2.9, 1.4, 0.2, 2],\n",
       " [5.7, 4.4, 1.5, 0.4, 2],\n",
       " [5.1, 3.5, 1.4, 0.3, 2],\n",
       " [5.7, 3.8, 1.7, 0.3, 2],\n",
       " [5.1, 3.7, 1.5, 0.4, 2],\n",
       " [4.6, 3.6, 1.0, 0.2, 2],\n",
       " [4.8, 3.4, 1.9, 0.2, 2],\n",
       " [5.0, 3.0, 1.6, 0.2, 2],\n",
       " [5.2, 3.5, 1.5, 0.2, 2],\n",
       " [4.7, 3.2, 1.6, 0.2, 2],\n",
       " [4.8, 3.1, 1.6, 0.2, 2],\n",
       " [5.4, 3.4, 1.5, 0.4, 2],\n",
       " [5.0, 3.2, 1.2, 0.2, 2],\n",
       " [4.4, 3.0, 1.3, 0.2, 2],\n",
       " [4.5, 2.3, 1.3, 0.3, 2],\n",
       " [4.4, 3.2, 1.3, 0.2, 2],\n",
       " [5.3, 3.7, 1.5, 0.2, 2],\n",
       " [7.0, 3.2, 4.7, 1.4, 1],\n",
       " [5.0, 2.0, 3.5, 1.0, 1],\n",
       " [5.9, 3.0, 4.2, 1.5, 1],\n",
       " [6.0, 2.2, 4.0, 1.0, 1],\n",
       " [6.1, 2.9, 4.7, 1.4, 1],\n",
       " [5.6, 2.9, 3.6, 1.3, 1],\n",
       " [5.9, 3.2, 4.8, 1.8, 1],\n",
       " [6.7, 3.0, 5.0, 1.7, 1],\n",
       " [5.7, 2.6, 3.5, 1.0, 1],\n",
       " [5.5, 2.4, 3.7, 1.0, 1],\n",
       " [5.4, 3.0, 4.5, 1.5, 1],\n",
       " [6.7, 3.1, 4.7, 1.5, 1],\n",
       " [5.6, 3.0, 4.1, 1.3, 1],\n",
       " [6.1, 3.0, 4.6, 1.4, 1],\n",
       " [5.8, 2.6, 4.0, 1.2, 1],\n",
       " [5.6, 2.7, 4.2, 1.3, 1],\n",
       " [5.7, 2.9, 4.2, 1.3, 1],\n",
       " [6.2, 2.9, 4.3, 1.3, 1],\n",
       " [5.7, 2.8, 4.1, 1.3, 1],\n",
       " [6.3, 2.9, 5.6, 1.8, 0],\n",
       " [6.5, 3.0, 5.8, 2.2, 0],\n",
       " [7.6, 3.0, 6.6, 2.1, 0],\n",
       " [6.7, 2.5, 5.8, 1.8, 0],\n",
       " [7.2, 3.6, 6.1, 2.5, 0],\n",
       " [6.8, 3.0, 5.5, 2.1, 0],\n",
       " [6.4, 3.2, 5.3, 2.3, 0],\n",
       " [7.7, 3.8, 6.7, 2.2, 0],\n",
       " [6.9, 3.2, 5.7, 2.3, 0],\n",
       " [5.6, 2.8, 4.9, 2.0, 0],\n",
       " [6.3, 2.7, 4.9, 1.8, 0],\n",
       " [6.2, 2.8, 4.8, 1.8, 0],\n",
       " [7.4, 2.8, 6.1, 1.9, 0],\n",
       " [6.3, 2.8, 5.1, 1.5, 0],\n",
       " [6.1, 2.6, 5.6, 1.4, 0],\n",
       " [6.7, 3.1, 5.6, 2.4, 0],\n",
       " [6.8, 3.2, 5.9, 2.3, 0],\n",
       " [6.7, 3.3, 5.7, 2.5, 0],\n",
       " [6.2, 3.4, 5.4, 2.3, 0],\n",
       " [5.9, 3.0, 5.1, 1.8, 0]]"
      ]
     },
     "execution_count": 17,
     "metadata": {},
     "output_type": "execute_result"
    }
   ],
   "source": [
    "test"
   ]
  },
  {
   "cell_type": "code",
   "execution_count": 34,
   "id": "4fba757e-4163-4b55-bb47-43ff49ea85d5",
   "metadata": {},
   "outputs": [],
   "source": [
    "def cross_validation(data, folds):\n",
    "    dataset_split = list()\n",
    "    dataset_copy = list(data)\n",
    "    fold_size = int(len(dataset_copy)/folds)\n",
    "    for i in range(folds):\n",
    "        fold = list()\n",
    "        while len(fold) < fold_size:\n",
    "            index = randrange(len(dataset_copy))\n",
    "            fold.append(dataset_copy.pop(index))\n",
    "        dataset_split.append(fold)\n",
    "    return dataset_split\n",
    "    "
   ]
  },
  {
   "cell_type": "code",
   "execution_count": 35,
   "id": "b3369f3e-8d29-46f1-8b6a-27654f62053a",
   "metadata": {},
   "outputs": [
    {
     "data": {
      "text/plain": [
       "150"
      ]
     },
     "execution_count": 35,
     "metadata": {},
     "output_type": "execute_result"
    }
   ],
   "source": [
    "len(data)"
   ]
  },
  {
   "cell_type": "code",
   "execution_count": 36,
   "id": "e8759b84-f9c7-492e-97ce-8dab7ae51dca",
   "metadata": {},
   "outputs": [],
   "source": [
    "k_folds = cross_validation(data, 3)"
   ]
  },
  {
   "cell_type": "code",
   "execution_count": 37,
   "id": "26835664-6033-4f1e-b69c-621c0b0de946",
   "metadata": {},
   "outputs": [
    {
     "data": {
      "text/plain": [
       "3"
      ]
     },
     "execution_count": 37,
     "metadata": {},
     "output_type": "execute_result"
    }
   ],
   "source": [
    "len(k_folds)"
   ]
  },
  {
   "cell_type": "code",
   "execution_count": 39,
   "id": "0ac092cf-abd6-4e6e-a650-3d828036e3dc",
   "metadata": {},
   "outputs": [
    {
     "data": {
      "text/plain": [
       "50"
      ]
     },
     "execution_count": 39,
     "metadata": {},
     "output_type": "execute_result"
    }
   ],
   "source": [
    "len(k_folds[0])"
   ]
  },
  {
   "cell_type": "code",
   "execution_count": null,
   "id": "dcdd5cc3-7d9f-4a50-9218-b2fb7a4870fe",
   "metadata": {},
   "outputs": [],
   "source": []
  }
 ],
 "metadata": {
  "kernelspec": {
   "display_name": "Python 3 (ipykernel)",
   "language": "python",
   "name": "python3"
  },
  "language_info": {
   "codemirror_mode": {
    "name": "ipython",
    "version": 3
   },
   "file_extension": ".py",
   "mimetype": "text/x-python",
   "name": "python",
   "nbconvert_exporter": "python",
   "pygments_lexer": "ipython3",
   "version": "3.13.5"
  }
 },
 "nbformat": 4,
 "nbformat_minor": 5
}
