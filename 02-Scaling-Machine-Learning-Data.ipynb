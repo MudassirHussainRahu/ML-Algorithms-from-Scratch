{
 "cells": [
  {
   "cell_type": "code",
   "execution_count": 60,
   "id": "ecc6967e-7dd6-4b98-aa06-1002a82b51e6",
   "metadata": {},
   "outputs": [],
   "source": [
    "import os \n",
    "from math import sqrt\n",
    "from csv import reader"
   ]
  },
  {
   "cell_type": "code",
   "execution_count": 61,
   "id": "32fef39a-59fb-4f2a-9ae5-61b671ab572b",
   "metadata": {},
   "outputs": [],
   "source": [
    "def load_csv(filename):\n",
    "    dataset = list()\n",
    "    with open(filename, \"r\") as file:\n",
    "        lines = reader(file)\n",
    "        for row in lines:\n",
    "            if not row:\n",
    "                continue\n",
    "            dataset.append(row)\n",
    "    return dataset\n",
    "\n",
    "def str_col_to_float(dataset, column):\n",
    "    for row in dataset:\n",
    "        row[column] = float(str(row[column]).strip())\n",
    "\n",
    "def str_col_to_int(dataset, column):\n",
    "    class_values = [ row[column] for row in dataset]\n",
    "    unique_values = set(class_values)\n",
    "\n",
    "    lookup = dict()\n",
    "    for i, value in enumerate(unique_values):\n",
    "        lookup[value] = i\n",
    "\n",
    "    for row in dataset:\n",
    "        row[column] = lookup[row[column]]\n",
    "    return lookup"
   ]
  },
  {
   "cell_type": "code",
   "execution_count": 62,
   "id": "7583451e-3c2b-4316-80ff-039a1fab6c44",
   "metadata": {},
   "outputs": [],
   "source": [
    "def dataset_minmax(dataset):\n",
    "    minmax = list()\n",
    "    for i in range(len(dataset[0])):\n",
    "        col_values = [ row[i] for row in dataset]\n",
    "        value_min = min(col_values)\n",
    "        value_max = max(col_values)\n",
    "        minmax.append([value_min, value_max])\n",
    "    return minmax"
   ]
  },
  {
   "cell_type": "code",
   "execution_count": 71,
   "id": "7634cbe6-5997-4132-ac8f-bef61f61a260",
   "metadata": {},
   "outputs": [],
   "source": [
    "# Normalize dataset\n",
    "# scaled_value = (value - min)/ (max - min)\n",
    "# rescaling an input variable to the range between 0 and 1\n",
    "def normalize_dataset(dataset, minmax):\n",
    "    for row in dataset:\n",
    "        for i in range(len(row)):\n",
    "            row[i] = (row[i] - minmax[i][0])/(minmax[i][1] - minmax[i][0])"
   ]
  },
  {
   "cell_type": "code",
   "execution_count": 76,
   "id": "15f8526c-9ab2-4749-92f4-f344c0a6d957",
   "metadata": {},
   "outputs": [],
   "source": [
    "# Standardization is a rescaling technique that refers to centering the distribution of the data on\n",
    "# the value 0 and the standard deviation to the value 1. \n",
    "# Together, the mean and the standard deviation can be used to summarize a normal distribution,\n",
    "# also called the Gaussian distribution or bell curve.\n",
    "# It requires that the mean and standard deviation of the values for each column be known\n",
    "# prior to scaling. \n",
    "\n",
    "# mean = ( sum of values  )/ ( number of values )\n",
    "\n",
    "\n",
    "def column_mean(dataset):\n",
    "    means = [ 0 for i in range(len(dataset[0])) ]\n",
    "    for i in range(len(dataset[0])):\n",
    "        col_values = [ row[i] for row in dataset ]\n",
    "        means[i] = sum(col_values)/len(col_values)\n",
    "\n",
    "    return means\n",
    "\n",
    "# The standard deviation describes the average spread of values from the mean. It can be\n",
    "# calculated as the square root of the sum of the squared di erence between each value and the\n",
    "# mean and dividing by the number of values minus 1.\n",
    "# standard deviation = square_root((Summation i=1 to N ( value_i - mean )^2)/count(values)-1)\n",
    "\n",
    "def column_stdevs(dataset, means):\n",
    "    stdevs = [ 0 for i in range(len(dataset[0])) ]\n",
    "    for i in range(len(dataset[0])):\n",
    "        variance = [ pow(row[i] - means[i], 2) for row in dataset ]\n",
    "        stdevs[i] = sqrt(sum(variance)/(len(variance)-1))\n",
    "\n",
    "    return stdevs\n",
    "\n",
    "# standardize_value = (value - mean)/ std\n",
    "def standardize_dataset(dataset, means, stdevs):\n",
    "    for row in dataset:\n",
    "        for i in range(len(row)):\n",
    "            row[i] = ( row[i] - means[i] )/stdevs[i]"
   ]
  },
  {
   "cell_type": "code",
   "execution_count": 77,
   "id": "c807d3cd-838a-49f7-ab04-5f887cba5534",
   "metadata": {},
   "outputs": [
    {
     "name": "stdout",
     "output_type": "stream",
     "text": [
      "Loaded pima-indians-diabetes.data.csv dataset with 768 rows and 9 columns.\n",
      "['6', '148', '72', '35', '0', '33.6', '0.627', '50', '1']\n",
      "[6.0, 148.0, 72.0, 35.0, 0.0, 33.6, 0.627, 50.0, 1.0]\n"
     ]
    }
   ],
   "source": [
    "filename = \"pima-indians-diabetes.data.csv\"\n",
    "dataset = load_csv(\"datasets/\"+filename)\n",
    "print(f\"Loaded {filename} dataset with {len(dataset)} rows and {len(dataset[0])} columns.\")\n",
    "\n",
    "print(dataset[0])\n",
    "\n",
    "for i in range(len(dataset[0])):\n",
    "    str_col_to_float(dataset, i)\n",
    "print(dataset[0])"
   ]
  },
  {
   "cell_type": "code",
   "execution_count": 78,
   "id": "80fa6c97-85b1-4cef-b75e-9ddcf0320676",
   "metadata": {},
   "outputs": [
    {
     "name": "stdout",
     "output_type": "stream",
     "text": [
      "[[0.0, 17.0], [0.0, 199.0], [0.0, 122.0], [0.0, 99.0], [0.0, 846.0], [0.0, 67.1], [0.078, 2.42], [21.0, 81.0], [0.0, 1.0]]\n"
     ]
    }
   ],
   "source": [
    "minmax = dataset_minmax(dataset)\n",
    "print(minmax)"
   ]
  },
  {
   "cell_type": "code",
   "execution_count": 79,
   "id": "3b22bb0f-e741-4dd9-a800-1353345eaa25",
   "metadata": {},
   "outputs": [
    {
     "name": "stdout",
     "output_type": "stream",
     "text": [
      "[3.8450520833333335, 120.89453125, 69.10546875, 20.536458333333332, 79.79947916666667, 31.992578124999977, 0.4718763020833327, 33.240885416666664, 0.3489583333333333]\n"
     ]
    }
   ],
   "source": [
    "means = column_mean(dataset)\n",
    "print(means)"
   ]
  },
  {
   "cell_type": "code",
   "execution_count": 80,
   "id": "38bc2fe4-ea7b-4f01-8fd8-a39e7a49b445",
   "metadata": {},
   "outputs": [
    {
     "name": "stdout",
     "output_type": "stream",
     "text": [
      "[3.3695780626988623, 31.97261819513622, 19.355807170644777, 15.952217567727677, 115.24400235133837, 7.8841603203754405, 0.33132859501277484, 11.76023154067868, 0.4769513772427971]\n"
     ]
    }
   ],
   "source": [
    "stdevs = column_stdevs(dataset, means)\n",
    "print(stdevs)"
   ]
  },
  {
   "cell_type": "code",
   "execution_count": 85,
   "id": "63ec4df0-7b64-4a58-83c4-da07c608f400",
   "metadata": {},
   "outputs": [],
   "source": [
    "dummy = [[50, 30], [20, 90], [30, 50]]\n"
   ]
  },
  {
   "cell_type": "code",
   "execution_count": 87,
   "id": "8f245883-a187-4683-adc2-ba081819383c",
   "metadata": {},
   "outputs": [
    {
     "name": "stdout",
     "output_type": "stream",
     "text": [
      "[[50, 30], [20, 90], [30, 50]]\n",
      "[33.333333333333336, 56.666666666666664]\n"
     ]
    }
   ],
   "source": [
    "print(dummy)\n",
    "dummy_mean = column_mean(dummy)\n",
    "print(dummy_mean)"
   ]
  },
  {
   "cell_type": "code",
   "execution_count": 89,
   "id": "c900378e-932a-4657-bfdd-0ea77eea5a45",
   "metadata": {},
   "outputs": [
    {
     "name": "stdout",
     "output_type": "stream",
     "text": [
      "[15.275252316519467, 30.550504633038933]\n",
      "None\n"
     ]
    }
   ],
   "source": [
    "dummy_stds = column_stdevs(dummy, dummy_mean)\n",
    "print(dummy_stds)\n",
    "dummy_standardized = standardize_dataset(dummy, dummy_mean, dummy_stds)\n"
   ]
  },
  {
   "cell_type": "code",
   "execution_count": 90,
   "id": "b5043cf1-4eee-406c-a0ca-b922859c969d",
   "metadata": {},
   "outputs": [
    {
     "name": "stdout",
     "output_type": "stream",
     "text": [
      "[[1.0910894511799618, -0.8728715609439694], [-0.8728715609439697, 1.091089451179962], [-0.21821789023599253, -0.2182178902359923]]\n"
     ]
    }
   ],
   "source": [
    "print(dummy)"
   ]
  },
  {
   "cell_type": "code",
   "execution_count": null,
   "id": "b8fc5410-a117-4651-976e-ccd981ed617c",
   "metadata": {},
   "outputs": [],
   "source": []
  }
 ],
 "metadata": {
  "kernelspec": {
   "display_name": "Python 3 (ipykernel)",
   "language": "python",
   "name": "python3"
  },
  "language_info": {
   "codemirror_mode": {
    "name": "ipython",
    "version": 3
   },
   "file_extension": ".py",
   "mimetype": "text/x-python",
   "name": "python",
   "nbconvert_exporter": "python",
   "pygments_lexer": "ipython3",
   "version": "3.13.5"
  }
 },
 "nbformat": 4,
 "nbformat_minor": 5
}
