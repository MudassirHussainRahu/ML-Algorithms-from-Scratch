{
 "cells": [
  {
   "cell_type": "code",
   "execution_count": null,
   "id": "17c9dcff-1529-41b0-b86c-008a2337e2fb",
   "metadata": {},
   "outputs": [],
   "source": []
  }
 ],
 "metadata": {
  "kernelspec": {
   "display_name": "",
   "name": ""
  },
  "language_info": {
   "name": ""
  }
 },
 "nbformat": 4,
 "nbformat_minor": 5
}
