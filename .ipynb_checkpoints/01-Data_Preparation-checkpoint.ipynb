{
 "cells": [
  {
   "cell_type": "code",
   "execution_count": 1,
   "id": "5da930b4-3785-4761-93eb-c4664bad2036",
   "metadata": {},
   "outputs": [],
   "source": [
    "import os\n",
    "from csv import reader"
   ]
  },
  {
   "cell_type": "code",
   "execution_count": 2,
   "id": "01f7924e-cc6f-4a0f-872c-7e58e86dd886",
   "metadata": {},
   "outputs": [
    {
     "name": "stdout",
     "output_type": "stream",
     "text": [
      "['iris.data.csv', 'pima-indians-diabetes.data.csv']\n"
     ]
    }
   ],
   "source": [
    "print(os.listdir(\"datasets/\"))"
   ]
  },
  {
   "cell_type": "code",
   "execution_count": 3,
   "id": "d0873830-9f87-4cdb-baea-1ec015cf4f2f",
   "metadata": {},
   "outputs": [],
   "source": [
    "def load_csv(filename):\n",
    "    dataset = list()\n",
    "    with open(filename, \"r\") as file:\n",
    "        lines = reader(file)\n",
    "        for row in lines:\n",
    "            if not row:\n",
    "                continue\n",
    "            dataset.append(row)\n",
    "    return dataset\n",
    "\n",
    "def str_col_to_float(dataset, column):\n",
    "    for row in dataset:\n",
    "        row[column] = float(str(row[column]).strip())\n",
    "\n",
    "def str_col_to_int(dataset, column):\n",
    "    class_values = [ row[column] for row in dataset]\n",
    "    unique_values = set(class_values)\n",
    "\n",
    "    lookup = dict()\n",
    "    for i, value in enumerate(unique_values):\n",
    "        lookup[value] = i\n",
    "\n",
    "    for row in dataset:\n",
    "        row[column] = lookup[row[column]]\n",
    "    return lookup"
   ]
  },
  {
   "cell_type": "code",
   "execution_count": 11,
   "id": "4656ff91-5f98-427c-84fe-dd8146d6dff8",
   "metadata": {},
   "outputs": [
    {
     "name": "stdout",
     "output_type": "stream",
     "text": [
      "Datset: pima-indians-diabetes.data.csv is loaded.\n",
      "pima-indians-diabetes.data.csv contains 150 rows and 5 columns.\n",
      "['5.1', '3.5', '1.4', '0.2', 'Iris-setosa']\n",
      "{'Iris-virginica': 0, 'Iris-versicolor': 1, 'Iris-setosa': 2}\n"
     ]
    }
   ],
   "source": [
    "dataset_name_iris = \"iris.data.csv\"\n",
    "dataset_iris = load_csv(\"datasets/\"+dataset_name_iris)\n",
    "print(f\"Datset: {dataset_name} is loaded.\")\n",
    "print(f\"{dataset_name} contains {len(dataset_iris)} rows and {len(dataset_iris[0])} columns.\")\n",
    "print(dataset_iris[0])\n",
    "\n",
    "for i in range(4):\n",
    "    str_col_to_float(dataset_iris, i)\n",
    "\n",
    "lookup = str_col_to_int(dataset_iris,4)\n",
    "print(lookup)"
   ]
  },
  {
   "cell_type": "code",
   "execution_count": null,
   "id": "08c0732d-ddc8-4eb6-ada7-98ad2b9eb561",
   "metadata": {},
   "outputs": [],
   "source": []
  }
 ],
 "metadata": {
  "kernelspec": {
   "display_name": "Python 3 (ipykernel)",
   "language": "python",
   "name": "python3"
  },
  "language_info": {
   "codemirror_mode": {
    "name": "ipython",
    "version": 3
   },
   "file_extension": ".py",
   "mimetype": "text/x-python",
   "name": "python",
   "nbconvert_exporter": "python",
   "pygments_lexer": "ipython3",
   "version": "3.9.13"
  }
 },
 "nbformat": 4,
 "nbformat_minor": 5
}
