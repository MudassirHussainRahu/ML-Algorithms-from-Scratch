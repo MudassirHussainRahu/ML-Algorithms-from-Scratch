{
 "cells": [
  {
   "cell_type": "code",
   "execution_count": 2,
   "id": "5da930b4-3785-4761-93eb-c4664bad2036",
   "metadata": {},
   "outputs": [],
   "source": [
    "import os\n",
    "from csv import reader"
   ]
  },
  {
   "cell_type": "code",
   "execution_count": 3,
   "id": "01f7924e-cc6f-4a0f-872c-7e58e86dd886",
   "metadata": {},
   "outputs": [
    {
     "name": "stdout",
     "output_type": "stream",
     "text": [
      "['iris.data.csv', 'pima-indians-diabetes.data.csv']\n"
     ]
    }
   ],
   "source": [
    "print(os.listdir(\"datasets/\"))"
   ]
  },
  {
   "cell_type": "code",
   "execution_count": 4,
   "id": "d0873830-9f87-4cdb-baea-1ec015cf4f2f",
   "metadata": {},
   "outputs": [],
   "source": [
    "def load_csv(filename):\n",
    "    dataset = list()\n",
    "    with open(filename, \"r\") as file:\n",
    "        lines = reader(file)\n",
    "        for row in lines:\n",
    "            if not row:\n",
    "                continue\n",
    "            dataset.append(row)\n",
    "    return dataset\n",
    "\n",
    "def str_col_to_float(dataset, column):\n",
    "    for row in dataset:\n",
    "        row[column] = float(str(row[column]).strip())\n",
    "\n",
    "def str_col_to_int(dataset, column):\n",
    "    class_values = [ row[column] for row in dataset]\n",
    "    unique_values = set(class_values)\n",
    "\n",
    "    lookup = dict()\n",
    "    for i, value in enumerate(unique_values):\n",
    "        lookup[value] = i\n",
    "\n",
    "    for row in dataset:\n",
    "        row[column] = lookup[row[column]]\n",
    "    return lookup"
   ]
  },
  {
   "cell_type": "code",
   "execution_count": 5,
   "id": "9f1be035-4d6d-40f7-806f-5d50de15546a",
   "metadata": {},
   "outputs": [
    {
     "name": "stdout",
     "output_type": "stream",
     "text": [
      "Datset: pima-indians-diabetes.data.csv is loaded.\n",
      "pima-indians-diabetes.data.csv contains 768 rows and 9 columns.\n"
     ]
    }
   ],
   "source": [
    "dataset_name = \"pima-indians-diabetes.data.csv\"\n",
    "dataset = load_csv(\"datasets/\"+dataset_name)\n",
    "print(f\"Datset: {dataset_name} is loaded.\")\n",
    "print(f\"{dataset_name} contains {len(dataset)} rows and {len(dataset[0])} columns.\")"
   ]
  },
  {
   "cell_type": "code",
   "execution_count": 6,
   "id": "41c391fb-ee19-45d5-9ebf-b89ff940908f",
   "metadata": {},
   "outputs": [
    {
     "name": "stdout",
     "output_type": "stream",
     "text": [
      "[6.0, 148.0, 72.0, 35.0, 0.0, 33.6, 0.627, 50.0, 1.0]\n"
     ]
    }
   ],
   "source": [
    "for i in range(len(dataset[0])):\n",
    "    str_col_to_float(dataset, i)\n",
    "print(dataset[0])"
   ]
  },
  {
   "cell_type": "code",
   "execution_count": 7,
   "id": "4656ff91-5f98-427c-84fe-dd8146d6dff8",
   "metadata": {},
   "outputs": [
    {
     "name": "stdout",
     "output_type": "stream",
     "text": [
      "Datset: pima-indians-diabetes.data.csv is loaded.\n",
      "pima-indians-diabetes.data.csv contains 768 rows and 9 columns.\n"
     ]
    }
   ],
   "source": [
    "dataset_name_iris = \"iris.data.csv\"\n",
    "dataset_iris = load_csv(\"datasets/\"+dataset_name_iris)\n",
    "print(f\"Datset: {dataset_name} is loaded.\")\n",
    "print(f\"{dataset_name} contains {len(dataset)} rows and {len(dataset[0])} columns.\")"
   ]
  },
  {
   "cell_type": "code",
   "execution_count": 8,
   "id": "dbe48bc3-904a-46ec-9a53-131fc14132d8",
   "metadata": {},
   "outputs": [
    {
     "data": {
      "text/plain": [
       "{'Iris-virginica': 0, 'Iris-setosa': 1, 'Iris-versicolor': 2}"
      ]
     },
     "execution_count": 8,
     "metadata": {},
     "output_type": "execute_result"
    }
   ],
   "source": [
    "for i in range(len(dataset_iris[0])-1):\n",
    "    str_col_to_float(dataset_iris, i)\n",
    "\n",
    "str_col_to_int(dataset_iris, -1)"
   ]
  },
  {
   "cell_type": "code",
   "execution_count": 1,
   "id": "fb299bd0-f904-44df-b499-7502a17662c0",
   "metadata": {},
   "outputs": [],
   "source": [
    "# dataset_iris"
   ]
  },
  {
   "cell_type": "code",
   "execution_count": null,
   "id": "0404a18b-116d-48d9-8de8-55004122311b",
   "metadata": {},
   "outputs": [],
   "source": []
  },
  {
   "cell_type": "code",
   "execution_count": null,
   "id": "08c0732d-ddc8-4eb6-ada7-98ad2b9eb561",
   "metadata": {},
   "outputs": [],
   "source": []
  }
 ],
 "metadata": {
  "kernelspec": {
   "display_name": "Python 3 (ipykernel)",
   "language": "python",
   "name": "python3"
  },
  "language_info": {
   "codemirror_mode": {
    "name": "ipython",
    "version": 3
   },
   "file_extension": ".py",
   "mimetype": "text/x-python",
   "name": "python",
   "nbconvert_exporter": "python",
   "pygments_lexer": "ipython3",
   "version": "3.9.13"
  }
 },
 "nbformat": 4,
 "nbformat_minor": 5
}
