{
 "cells": [
  {
   "cell_type": "markdown",
   "id": "589090a0-0e8e-4751-87fa-e3e15d8d91d1",
   "metadata": {},
   "source": [
    "### 4.2.9 Baseline Models\n",
    "\n",
    "Before developing complex predictive models, it is important to establish a **baseline performance**.  \n",
    "A **baseline model** provides a simple point of comparison for evaluating whether more advanced models actually improve performance.\n",
    "\n",
    "Baseline predictions are evaluated using the **same metrics** you would apply to your main model —  \n",
    "for example, **Classification Accuracy** for classification tasks or **RMSE** for regression tasks.\n",
    "\n",
    "A good baseline helps answer the question:\n",
    "\n",
    "> *“Is my model performing better than a simple or random approach?”*\n",
    "\n",
    "---\n",
    "\n",
    "### 🔹 Common Baseline Algorithms\n",
    "\n",
    "1. **Random Prediction Algorithm**  \n",
    "   - Generates predictions **randomly** based on the distribution of classes (for classification) or random values (for regression).  \n",
    "   - Serves as a *minimum performance threshold*.  \n",
    "   - Example: randomly predicting “spam” or “not spam” with equal probability.\n",
    "\n",
    "2. **Zero Rule (ZeroR) Algorithm**  \n",
    "   - A very simple method that **always predicts the most frequent class** (for classification) or the **mean value** (for regression).  \n",
    "   - Provides a strong and interpretable baseline.  \n",
    "   - Example: always predicting “not spam” if 80% of training samples are “not spam”.\n",
    "\n",
    "---\n",
    "\n",
    "### 🔹 Purpose of a Baseline\n",
    "\n",
    "- Establishes a **minimum expected performance**.  \n",
    "- Helps identify whether a new model provides **meaningful improvement**.  \n",
    "- Acts as a **diagnostic tool** — if your model cannot outperform the baseline, it needs revisiting.\n",
    "\n",
    "---\n",
    "\n",
    "**In summary:**  \n",
    "A baseline model may be simple, but it is an **essential first step** in building and validating any predictive modeling pipeline.\n"
   ]
  },
  {
   "cell_type": "code",
   "execution_count": 1,
   "id": "5e97f374-840f-4d35-a665-246014143699",
   "metadata": {},
   "outputs": [],
   "source": [
    "from random import seed, randrange"
   ]
  },
  {
   "cell_type": "code",
   "execution_count": 5,
   "id": "29483301-5388-4c3f-8210-e5ab65c9440c",
   "metadata": {},
   "outputs": [],
   "source": [
    "def random_algorithm(train, test):\n",
    "    output_values = [ row[-1] for row in train ]\n",
    "    unique = list(set(output_values))\n",
    "    predicted = list()\n",
    "    for i in range(len(test)):\n",
    "        index = randrange(len(unique))\n",
    "        predicted.append(unique[index])\n",
    "\n",
    "    return predicted\n",
    "        "
   ]
  },
  {
   "cell_type": "code",
   "execution_count": 8,
   "id": "77206266-0ec9-485c-9acb-5bddf20f8243",
   "metadata": {},
   "outputs": [
    {
     "name": "stdout",
     "output_type": "stream",
     "text": [
      "[0, 0, 1, 0]\n"
     ]
    }
   ],
   "source": [
    " seed(1)\n",
    " train = [[0], [1], [0], [1], [0], [1]]\n",
    " test = [[None], [None], [None], [None]]\n",
    " predictions = random_algorithm(train, test)\n",
    " print(predictions)"
   ]
  },
  {
   "cell_type": "markdown",
   "id": "94748a4c-f196-49ff-a38c-fa6ed10c27db",
   "metadata": {},
   "source": [
    "### Zero Rule Algorithm\n",
    "\n",
    "The **Zero Rule Algorithm (ZeroR)** is a simple baseline method that uses the most frequent class or average value to make predictions. It provides a more informed baseline than the random prediction algorithm.\n",
    "\n",
    "#### Classification\n",
    "For classification problems:\n",
    "- ZeroR predicts the **most common class** in the training dataset.\n",
    "- Example: If a dataset has 90 instances of class 0 and 10 of class 1, ZeroR will always predict class 0.\n",
    "- Baseline accuracy = 90 / 100 = **90%**\n",
    "- This is higher than the random prediction accuracy (~82%).\n",
    "\n",
    "#### Key Idea\n",
    "ZeroR creates **one simple rule** using the target distribution — a strong baseline for comparing more complex models.\n"
   ]
  },
  {
   "cell_type": "code",
   "execution_count": 7,
   "id": "fb47fe24-ca6d-464a-8f0d-9a01a4354651",
   "metadata": {},
   "outputs": [],
   "source": [
    "def zero_rule_algorithm_classification(train,test):\n",
    "    output_values = [ row[-1] for row in train ]\n",
    "    prediction = max(set(output_values), key=output_values.count)\n",
    "    # print(prediction)\n",
    "    predicted = [ prediction for i in range(len(test)) ]\n",
    "    return predicted"
   ]
  },
  {
   "cell_type": "code",
   "execution_count": 8,
   "id": "651f2b81-0f33-4a87-a1d5-5f7c78fdc095",
   "metadata": {},
   "outputs": [
    {
     "name": "stdout",
     "output_type": "stream",
     "text": [
      "Test 1: [0, 0]\n"
     ]
    }
   ],
   "source": [
    "from random import seed\n",
    "\n",
    "seed(1)\n",
    "\n",
    "train1 = [\n",
    "    [1, 0],\n",
    "    [2, 0],\n",
    "    [3, 1],\n",
    "    [4, 0]\n",
    "]\n",
    "test1 = [\n",
    "    [5, None],\n",
    "    [6, None]\n",
    "]\n",
    "print(\"Test 1:\", zero_rule_algorithm_classification(train1, test1))"
   ]
  },
  {
   "cell_type": "markdown",
   "id": "efbe0d8b-3b40-49f3-ae54-6b64e1312624",
   "metadata": {},
   "source": [
    "### Zero Rule Algorithm — Regression\n",
    "\n",
    "For **regression problems**, the Zero Rule Algorithm (ZeroR) predicts a constant real value — typically the **mean** (average) of all observed target values in the training data.\n",
    "\n",
    "#### How It Works\n",
    "- Calculates the mean of the output values:\n",
    "  \n",
    "  $\n",
    "  \\text{mean} = \\frac{\\sum_{i=1}^{n} \\text{value}_i}{\\text{count(values)}}\n",
    "  $\n",
    "\n",
    "- This mean value is then used as the prediction for all inputs.\n",
    "- Using the mean (or sometimes the median) provides a strong baseline, as it usually produces lower error than random predictions.\n",
    "\n",
    "#### Key Idea\n",
    "ZeroR for regression predicts the **central tendency** (mean or median) of the target variable — offering a simple yet effective performance benchmark for evaluating advanced models.\n"
   ]
  },
  {
   "cell_type": "code",
   "execution_count": 10,
   "id": "c574a67f-0579-450d-8e25-20f748c936dd",
   "metadata": {},
   "outputs": [],
   "source": [
    "def zero_rule_algorithm_regression(train, test):\n",
    "    output_values = [ row[-1] for row in train ]\n",
    "    prediction = sum(output_values)/float(len(output_values))\n",
    "    predicted = [ prediction for i in range(len(test)) ]\n",
    "    return predicted"
   ]
  },
  {
   "cell_type": "code",
   "execution_count": 11,
   "id": "3329093d-35a9-4e0d-b73a-90aac9316334",
   "metadata": {},
   "outputs": [
    {
     "name": "stdout",
     "output_type": "stream",
     "text": [
      "Test 1: [20.0, 20.0]\n",
      "Test 2: [5.0, 5.0]\n",
      "Test 3: [3.5]\n",
      "Test 4: [100.0, 100.0, 100.0]\n",
      "Test 5: [42.0, 42.0]\n"
     ]
    }
   ],
   "source": [
    "train1 = [\n",
    "    [1, 10],\n",
    "    [2, 20],\n",
    "    [3, 30]\n",
    "]\n",
    "test1 = [\n",
    "    [4, None],\n",
    "    [5, None]\n",
    "]\n",
    "print(\"Test 1:\", zero_rule_algorithm_regression(train1, test1))\n",
    "# Expected mean = (10 + 20 + 30) / 3 = 20\n",
    "# Output → [20.0, 20.0]\n",
    "\n",
    "\n",
    "# ✅ Test Case 2: Mixed positive and negative values\n",
    "train2 = [\n",
    "    [1, -5],\n",
    "    [2, 5],\n",
    "    [3, 15]\n",
    "]\n",
    "test2 = [\n",
    "    [4, None],\n",
    "    [5, None],\n",
    "]\n",
    "print(\"Test 2:\", zero_rule_algorithm_regression(train2, test2))\n",
    "# Expected mean = (-5 + 5 + 15) / 3 = 5.0\n",
    "# Output → [5.0, 5.0]\n",
    "\n",
    "\n",
    "# ✅ Test Case 3: Decimal (float) values\n",
    "train3 = [\n",
    "    [1, 2.5],\n",
    "    [2, 3.5],\n",
    "    [3, 4.5]\n",
    "]\n",
    "test3 = [\n",
    "    [4, None]\n",
    "]\n",
    "print(\"Test 3:\", zero_rule_algorithm_regression(train3, test3))\n",
    "# Expected mean = (2.5 + 3.5 + 4.5) / 3 = 3.5\n",
    "# Output → [3.5]\n",
    "\n",
    "\n",
    "# ✅ Test Case 4: All same output values\n",
    "train4 = [\n",
    "    [1, 100],\n",
    "    [2, 100],\n",
    "    [3, 100]\n",
    "]\n",
    "test4 = [\n",
    "    [4, None],\n",
    "    [5, None],\n",
    "    [6, None]\n",
    "]\n",
    "print(\"Test 4:\", zero_rule_algorithm_regression(train4, test4))\n",
    "# Expected mean = 100.0\n",
    "# Output → [100.0, 100.0, 100.0]\n",
    "\n",
    "\n",
    "# ✅ Test Case 5: Single training example\n",
    "train5 = [\n",
    "    [1, 42]\n",
    "]\n",
    "test5 = [\n",
    "    [2, None],\n",
    "    [3, None]\n",
    "]\n",
    "print(\"Test 5:\", zero_rule_algorithm_regression(train5, test5))\n",
    "# Expected mean = 42\n",
    "# Output → [42.0, 42.0]"
   ]
  },
  {
   "cell_type": "code",
   "execution_count": null,
   "id": "0b57f31e-aecd-4bae-953f-2ef7b13c8ac6",
   "metadata": {},
   "outputs": [],
   "source": []
  }
 ],
 "metadata": {
  "kernelspec": {
   "display_name": "Python 3 (ipykernel)",
   "language": "python",
   "name": "python3"
  },
  "language_info": {
   "codemirror_mode": {
    "name": "ipython",
    "version": 3
   },
   "file_extension": ".py",
   "mimetype": "text/x-python",
   "name": "python",
   "nbconvert_exporter": "python",
   "pygments_lexer": "ipython3",
   "version": "3.13.5"
  }
 },
 "nbformat": 4,
 "nbformat_minor": 5
}
