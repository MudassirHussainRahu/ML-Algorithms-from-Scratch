{
 "cells": [
  {
   "cell_type": "markdown",
   "id": "589090a0-0e8e-4751-87fa-e3e15d8d91d1",
   "metadata": {},
   "source": [
    "### 4.2.9 Baseline Models\n",
    "\n",
    "Before developing complex predictive models, it is important to establish a **baseline performance**.  \n",
    "A **baseline model** provides a simple point of comparison for evaluating whether more advanced models actually improve performance.\n",
    "\n",
    "Baseline predictions are evaluated using the **same metrics** you would apply to your main model —  \n",
    "for example, **Classification Accuracy** for classification tasks or **RMSE** for regression tasks.\n",
    "\n",
    "A good baseline helps answer the question:\n",
    "\n",
    "> *“Is my model performing better than a simple or random approach?”*\n",
    "\n",
    "---\n",
    "\n",
    "### 🔹 Common Baseline Algorithms\n",
    "\n",
    "1. **Random Prediction Algorithm**  \n",
    "   - Generates predictions **randomly** based on the distribution of classes (for classification) or random values (for regression).  \n",
    "   - Serves as a *minimum performance threshold*.  \n",
    "   - Example: randomly predicting “spam” or “not spam” with equal probability.\n",
    "\n",
    "2. **Zero Rule (ZeroR) Algorithm**  \n",
    "   - A very simple method that **always predicts the most frequent class** (for classification) or the **mean value** (for regression).  \n",
    "   - Provides a strong and interpretable baseline.  \n",
    "   - Example: always predicting “not spam” if 80% of training samples are “not spam”.\n",
    "\n",
    "---\n",
    "\n",
    "### 🔹 Purpose of a Baseline\n",
    "\n",
    "- Establishes a **minimum expected performance**.  \n",
    "- Helps identify whether a new model provides **meaningful improvement**.  \n",
    "- Acts as a **diagnostic tool** — if your model cannot outperform the baseline, it needs revisiting.\n",
    "\n",
    "---\n",
    "\n",
    "**In summary:**  \n",
    "A baseline model may be simple, but it is an **essential first step** in building and validating any predictive modeling pipeline.\n"
   ]
  },
  {
   "cell_type": "code",
   "execution_count": 1,
   "id": "5e97f374-840f-4d35-a665-246014143699",
   "metadata": {},
   "outputs": [],
   "source": [
    "from random import seed, randrange"
   ]
  },
  {
   "cell_type": "code",
   "execution_count": 5,
   "id": "29483301-5388-4c3f-8210-e5ab65c9440c",
   "metadata": {},
   "outputs": [],
   "source": [
    "def random_algorithm(train, test):\n",
    "    output_values = [ row[-1] for row in train ]\n",
    "    unique = list(set(output_values))\n",
    "    predicted = list()\n",
    "    for i in range(len(test)):\n",
    "        index = randrange(len(unique))\n",
    "        predicted.append(unique[index])\n",
    "\n",
    "    return predicted\n",
    "        "
   ]
  },
  {
   "cell_type": "code",
   "execution_count": 8,
   "id": "77206266-0ec9-485c-9acb-5bddf20f8243",
   "metadata": {},
   "outputs": [
    {
     "name": "stdout",
     "output_type": "stream",
     "text": [
      "[0, 0, 1, 0]\n"
     ]
    }
   ],
   "source": [
    " seed(1)\n",
    " train = [[0], [1], [0], [1], [0], [1]]\n",
    " test = [[None], [None], [None], [None]]\n",
    " predictions = random_algorithm(train, test)\n",
    " print(predictions)"
   ]
  },
  {
   "cell_type": "code",
   "execution_count": null,
   "id": "ff8ed10c-14da-4c1d-bb82-2d6eca0eb292",
   "metadata": {},
   "outputs": [],
   "source": []
  }
 ],
 "metadata": {
  "kernelspec": {
   "display_name": "Python 3 (ipykernel)",
   "language": "python",
   "name": "python3"
  },
  "language_info": {
   "codemirror_mode": {
    "name": "ipython",
    "version": 3
   },
   "file_extension": ".py",
   "mimetype": "text/x-python",
   "name": "python",
   "nbconvert_exporter": "python",
   "pygments_lexer": "ipython3",
   "version": "3.13.5"
  }
 },
 "nbformat": 4,
 "nbformat_minor": 5
}
